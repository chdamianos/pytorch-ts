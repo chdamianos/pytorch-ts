{
 "cells": [
  {
   "cell_type": "code",
   "execution_count": 2,
   "metadata": {},
   "outputs": [],
   "source": [
    "import pandas as pd"
   ]
  },
  {
   "cell_type": "code",
   "execution_count": 6,
   "metadata": {},
   "outputs": [],
   "source": [
    "sequence_data = pd.read_pickle('./sequence_data/sequence_data_stdscaler_test.pkl')"
   ]
  },
  {
   "cell_type": "code",
   "execution_count": 7,
   "metadata": {},
   "outputs": [
    {
     "data": {
      "text/html": [
       "<div>\n",
       "<style scoped>\n",
       "    .dataframe tbody tr th:only-of-type {\n",
       "        vertical-align: middle;\n",
       "    }\n",
       "\n",
       "    .dataframe tbody tr th {\n",
       "        vertical-align: top;\n",
       "    }\n",
       "\n",
       "    .dataframe thead th {\n",
       "        text-align: right;\n",
       "    }\n",
       "</style>\n",
       "<table border=\"1\" class=\"dataframe\">\n",
       "  <thead>\n",
       "    <tr style=\"text-align: right;\">\n",
       "      <th></th>\n",
       "      <th>store_item_id</th>\n",
       "      <th>x_sequence</th>\n",
       "      <th>y_sequence</th>\n",
       "      <th>date</th>\n",
       "      <th>item</th>\n",
       "      <th>store</th>\n",
       "      <th>yearly_corr</th>\n",
       "    </tr>\n",
       "  </thead>\n",
       "  <tbody>\n",
       "    <tr>\n",
       "      <th>0</th>\n",
       "      <td>10_1</td>\n",
       "      <td>[[-1.4795, 0.7817, 0.6235, 0.5, 0.866, 0.0, 0....</td>\n",
       "      <td>[[0.2795, -0.7817, 0.6235, 0.0, -1.0, 0.0, -0....</td>\n",
       "      <td>2013-06-30</td>\n",
       "      <td>1</td>\n",
       "      <td>10</td>\n",
       "      <td>-1.151367</td>\n",
       "    </tr>\n",
       "    <tr>\n",
       "      <th>1</th>\n",
       "      <td>10_1</td>\n",
       "      <td>[[-1.4795, 0.975, -0.2225, 0.5, 0.866, 0.0, 0....</td>\n",
       "      <td>[[-0.6, 0.0, 1.0, -0.5, -0.866, 0.0, 0.2013, 0...</td>\n",
       "      <td>2013-07-01</td>\n",
       "      <td>1</td>\n",
       "      <td>10</td>\n",
       "      <td>-1.151367</td>\n",
       "    </tr>\n",
       "    <tr>\n",
       "      <th>2</th>\n",
       "      <td>10_1</td>\n",
       "      <td>[[-1.229, 0.4338, -0.901, 0.5, 0.866, 0.0, 0.5...</td>\n",
       "      <td>[[-0.0975, 0.7817, 0.6235, -0.5, -0.866, 0.0, ...</td>\n",
       "      <td>2013-07-02</td>\n",
       "      <td>1</td>\n",
       "      <td>10</td>\n",
       "      <td>-1.151367</td>\n",
       "    </tr>\n",
       "    <tr>\n",
       "      <th>3</th>\n",
       "      <td>10_1</td>\n",
       "      <td>[[-1.103, -0.4338, -0.901, 0.5, 0.866, 0.0, 0....</td>\n",
       "      <td>[[-0.0975, 0.975, -0.2225, -0.5, -0.866, 0.0, ...</td>\n",
       "      <td>2013-07-03</td>\n",
       "      <td>1</td>\n",
       "      <td>10</td>\n",
       "      <td>-1.151367</td>\n",
       "    </tr>\n",
       "    <tr>\n",
       "      <th>4</th>\n",
       "      <td>10_1</td>\n",
       "      <td>[[-1.731, -0.975, -0.2225, 0.5, 0.866, 0.0, 0....</td>\n",
       "      <td>[[-0.4744, 0.4338, -0.901, -0.5, -0.866, 0.0, ...</td>\n",
       "      <td>2013-07-04</td>\n",
       "      <td>1</td>\n",
       "      <td>10</td>\n",
       "      <td>-1.151367</td>\n",
       "    </tr>\n",
       "  </tbody>\n",
       "</table>\n",
       "</div>"
      ],
      "text/plain": [
       "  store_item_id                                         x_sequence  \\\n",
       "0          10_1  [[-1.4795, 0.7817, 0.6235, 0.5, 0.866, 0.0, 0....   \n",
       "1          10_1  [[-1.4795, 0.975, -0.2225, 0.5, 0.866, 0.0, 0....   \n",
       "2          10_1  [[-1.229, 0.4338, -0.901, 0.5, 0.866, 0.0, 0.5...   \n",
       "3          10_1  [[-1.103, -0.4338, -0.901, 0.5, 0.866, 0.0, 0....   \n",
       "4          10_1  [[-1.731, -0.975, -0.2225, 0.5, 0.866, 0.0, 0....   \n",
       "\n",
       "                                          y_sequence       date  item  store  \\\n",
       "0  [[0.2795, -0.7817, 0.6235, 0.0, -1.0, 0.0, -0.... 2013-06-30     1     10   \n",
       "1  [[-0.6, 0.0, 1.0, -0.5, -0.866, 0.0, 0.2013, 0... 2013-07-01     1     10   \n",
       "2  [[-0.0975, 0.7817, 0.6235, -0.5, -0.866, 0.0, ... 2013-07-02     1     10   \n",
       "3  [[-0.0975, 0.975, -0.2225, -0.5, -0.866, 0.0, ... 2013-07-03     1     10   \n",
       "4  [[-0.4744, 0.4338, -0.901, -0.5, -0.866, 0.0, ... 2013-07-04     1     10   \n",
       "\n",
       "   yearly_corr  \n",
       "0    -1.151367  \n",
       "1    -1.151367  \n",
       "2    -1.151367  \n",
       "3    -1.151367  \n",
       "4    -1.151367  "
      ]
     },
     "execution_count": 7,
     "metadata": {},
     "output_type": "execute_result"
    }
   ],
   "source": [
    "sequence_data.head()"
   ]
  },
  {
   "cell_type": "code",
   "execution_count": 9,
   "metadata": {},
   "outputs": [
    {
     "data": {
      "text/plain": [
       "store_item_id                                                 10_1\n",
       "x_sequence       [[-1.4795, 0.7817, 0.6235, 0.5, 0.866, 0.0, 0....\n",
       "y_sequence       [[0.2795, -0.7817, 0.6235, 0.0, -1.0, 0.0, -0....\n",
       "date                                           2013-06-30 00:00:00\n",
       "item                                                             1\n",
       "store                                                           10\n",
       "yearly_corr                                               -1.15137\n",
       "Name: 0, dtype: object"
      ]
     },
     "execution_count": 9,
     "metadata": {},
     "output_type": "execute_result"
    }
   ],
   "source": [
    "sequence_data.iloc[0]"
   ]
  },
  {
   "cell_type": "code",
   "execution_count": 11,
   "metadata": {},
   "outputs": [
    {
     "data": {
      "text/plain": [
       "(180, 8)"
      ]
     },
     "execution_count": 11,
     "metadata": {},
     "output_type": "execute_result"
    }
   ],
   "source": [
    "sequence_data.iloc[0]['x_sequence'].shape"
   ]
  },
  {
   "cell_type": "code",
   "execution_count": 12,
   "metadata": {},
   "outputs": [
    {
     "data": {
      "text/plain": [
       "(90, 9)"
      ]
     },
     "execution_count": 12,
     "metadata": {},
     "output_type": "execute_result"
    }
   ],
   "source": [
    "sequence_data.iloc[0]['y_sequence'].shape"
   ]
  },
  {
   "cell_type": "code",
   "execution_count": 15,
   "metadata": {},
   "outputs": [
    {
     "data": {
      "text/plain": [
       "(1647, 7)"
      ]
     },
     "execution_count": 15,
     "metadata": {},
     "output_type": "execute_result"
    }
   ],
   "source": [
    "sequence_data.query(\"store_item_id=='10_1'\").shape"
   ]
  },
  {
   "cell_type": "code",
   "execution_count": null,
   "metadata": {},
   "outputs": [],
   "source": []
  }
 ],
 "metadata": {
  "kernelspec": {
   "display_name": "Python 3",
   "language": "python",
   "name": "python3"
  },
  "language_info": {
   "codemirror_mode": {
    "name": "ipython",
    "version": 3
   },
   "file_extension": ".py",
   "mimetype": "text/x-python",
   "name": "python",
   "nbconvert_exporter": "python",
   "pygments_lexer": "ipython3",
   "version": "3.8.3"
  }
 },
 "nbformat": 4,
 "nbformat_minor": 4
}
